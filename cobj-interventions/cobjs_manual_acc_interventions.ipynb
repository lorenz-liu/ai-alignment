{
 "cells": [
  {
   "cell_type": "code",
   "execution_count": 1,
   "id": "ded66108",
   "metadata": {},
   "outputs": [],
   "source": [
    "from transformer_lens import HookedTransformer, HookedTransformerConfig, FactoredMatrix, ActivationCache\n",
    "import transformer_lens\n",
    "import transformer_lens.utils as utils\n",
    "import circuitsvis as cv\n",
    "from transformer_lens.hook_points import (\n",
    "    HookedRootModule,\n",
    "    HookPoint,\n",
    ")  # Hooking utilities\n",
    "import matplotlib.pyplot as plt\n",
    "import torch\n",
    "import torch.nn as nn\n",
    "import torch.nn.functional as F\n",
    "import torch.optim as optim\n",
    "import numpy as np\n",
    "import json\n",
    "import random\n",
    "from tqdm import tqdm as tqdm\n",
    "import plotly.express as px\n",
    "import pandas as pd\n",
    "from fancy_einsum import einsum\n",
    "from functools import partial\n",
    "from prompts_to_df import convert_strs_to_df\n",
    "from collections import Counter\n",
    "from typing import List\n",
    "\n",
    "def imshow(tensor, renderer=None, midpoint=0, **kwargs):\n",
    "    px.imshow(utils.to_numpy(tensor), color_continuous_midpoint=midpoint, color_continuous_scale=\"RdBu\", **kwargs).show(renderer)\n",
    "\n",
    "def line(tensor, renderer=None, **kwargs):\n",
    "    px.line(y=utils.to_numpy(tensor), **kwargs).show(renderer)\n",
    "\n",
    "def scatter(x, y, xaxis=\"\", yaxis=\"\", caxis=\"\", renderer=None, **kwargs):\n",
    "    x = utils.to_numpy(x)\n",
    "    y = utils.to_numpy(y)\n",
    "    px.scatter(y=y, x=x, labels={\"x\":xaxis, \"y\":yaxis, \"color\":caxis}, **kwargs).show(renderer)"
   ]
  },
  {
   "cell_type": "code",
   "execution_count": 5,
   "id": "e58b0f1b",
   "metadata": {},
   "outputs": [
    {
     "name": "stderr",
     "output_type": "stream",
     "text": [
      "Using pad_token, but it is not set yet.\n"
     ]
    },
    {
     "name": "stdout",
     "output_type": "stream",
     "text": [
      "Loaded pretrained model gpt2-medium into HookedTransformer\n",
      "device: cuda:0\n"
     ]
    }
   ],
   "source": [
    "torch.set_grad_enabled(False)\n",
    "device = 'cuda:0' if torch.cuda.is_available() else 'cpu'\n",
    "model_name = 'gpt2-medium'\n",
    "model = HookedTransformer.from_pretrained(\n",
    "    model_name,\n",
    "    center_unembed=True,\n",
    "    center_writing_weights=True,\n",
    "    fold_ln=True,\n",
    "    device = device\n",
    ")\n",
    "print(\"device:\", device)"
   ]
  },
  {
   "cell_type": "code",
   "execution_count": 6,
   "id": "f64d5cf4",
   "metadata": {},
   "outputs": [],
   "source": [
    "def logits_to_ave_logit_diff(logits, answer_tokens, per_prompt=False):\n",
    "    # Only the final logits are relevant for the answer\n",
    "    final_logits = logits[:, -1, :]\n",
    "    answer_logits = final_logits.gather(dim=-1, index=answer_tokens)\n",
    "    answer_logit_diff = answer_logits[:, 0] - answer_logits[:, 1]\n",
    "\n",
    "    if per_prompt:\n",
    "        return answer_logit_diff\n",
    "    else:\n",
    "        return answer_logit_diff.mean()"
   ]
  },
  {
   "cell_type": "code",
   "execution_count": 7,
   "id": "89c2b1fa",
   "metadata": {},
   "outputs": [],
   "source": [
    "from torch.utils.data import DataLoader, Dataset\n",
    "\n",
    "class ObjectData(Dataset):\n",
    "    def __init__(self, data, labels):\n",
    "        self.data = data\n",
    "        self.labels = labels\n",
    "\n",
    "    def __getitem__(self, idx):\n",
    "        return self.data[idx], self.labels[idx]\n",
    "\n",
    "    def __len__(self):\n",
    "        return len(self.data)\n",
    "\n",
    "with open(\"data/good_data_42.json\", 'r') as fp:#\"data/good_data_42.json\" #data/gpt2-medium_incorrect_42.json\n",
    "    clean_data = json.load(fp)\n",
    "cleand, cleanlabs = [i[0] for i in clean_data], [i[1] for i in clean_data]\n",
    "batch_size = 1\n",
    "clean_loader = DataLoader(ObjectData(cleand, cleanlabs), batch_size=batch_size, shuffle=False)"
   ]
  },
  {
   "cell_type": "code",
   "execution_count": 8,
   "id": "58f4fcfa",
   "metadata": {},
   "outputs": [],
   "source": [
    "def patch_head_vector_at_pos(\n",
    "    clean_head_vector,\n",
    "    hook,\n",
    "    head_index,\n",
    "    dest_index,\n",
    "    source_idxs):\n",
    "    clean_head_vector[:, head_index, dest_index, :] = 0\n",
    "    clean_head_vector[:, head_index, dest_index, source_idxs] = 1/len(source_idxs)\n",
    "    return clean_head_vector\n",
    "\n",
    "def head_ablation_hook(\n",
    "    value,\n",
    "    hook,\n",
    "    head_index\n",
    "):\n",
    "    value[:, :, head_index, :] = 0.\n",
    "    return value\n",
    "\n",
    "def patch_attn_input(clean_input, hook, head_index, pos_index, additive_patch):\n",
    "    #print(\"CLEAN\", clean_input.shape, flush=True)\n",
    "    clean_input[:, pos_index,head_index, :] +=additive_patch #additive_patch should be shape head_dim\n",
    "    return clean_input"
   ]
  },
  {
   "cell_type": "code",
   "execution_count": 9,
   "id": "0a316e8d",
   "metadata": {},
   "outputs": [],
   "source": [
    "def get_headout_sum(cld, cll):\n",
    "    \n",
    "    str_toks = model.to_str_tokens(cld[0], prepend_bos=False)\n",
    "    #print(str_toks)\n",
    "    ans_idx = str_toks.index(cll[0].lower())\n",
    "    example_label_idx = 30\n",
    "    color_idxs = [43-2, 47-2, 52-2]\n",
    "    color_idxs.remove(ans_idx)\n",
    "    \n",
    "    model.reset_hooks()\n",
    "\n",
    "    hook_fn = partial(patch_head_vector_at_pos, head_index=4, dest_index = -1, source_idxs=color_idxs)\n",
    "    model.blocks[6].attn.hook_pattern.add_hook(hook_fn)\n",
    "\n",
    "    hook_fn = partial(patch_head_vector_at_pos, head_index=15, dest_index = -1, source_idxs=[c+1 for c in color_idxs])\n",
    "    model.blocks[6].attn.hook_pattern.add_hook(hook_fn)\n",
    "\n",
    "    hook_fn = partial(patch_head_vector_at_pos, head_index=2, dest_index = -1, source_idxs=[c+1 for c in color_idxs])\n",
    "    model.blocks[7].attn.hook_pattern.add_hook(hook_fn)\n",
    "\n",
    "    hook_fn = partial(patch_head_vector_at_pos, head_index=11, dest_index = -1, source_idxs=color_idxs)\n",
    "    model.blocks[7].attn.hook_pattern.add_hook(hook_fn)\n",
    "\n",
    "    hook_fn = partial(patch_head_vector_at_pos, head_index=15, dest_index = -1, source_idxs=color_idxs)\n",
    "    model.blocks[8].attn.hook_pattern.add_hook(hook_fn)\n",
    "\n",
    "    hook_fn = partial(patch_head_vector_at_pos, head_index=3, dest_index = -1, source_idxs=[c+1 for c in color_idxs])\n",
    "    model.blocks[9].attn.hook_pattern.add_hook(hook_fn)\n",
    "\n",
    "    logits, cache = model.run_with_cache(cleand[0])\n",
    "    model.reset_hooks()\n",
    "    \n",
    "    headouts, labels = cache.stack_head_results(pos_slice=-1, return_labels=True)\n",
    "    head_labels = ['L6H4', 'L6H15', \"L7H2\", \"L7H11\", \"L8H15\", \"L9H3\"]\n",
    "    print(headouts.shape)\n",
    "    headout_sum = torch.zeros_like(headouts[0, 0])\n",
    "    for label in head_labels:\n",
    "        label_idx = labels.index(label)\n",
    "        headout_sum+=headouts[label_idx, 0]\n",
    "    return headout_sum"
   ]
  },
  {
   "cell_type": "code",
   "execution_count": 10,
   "id": "63954181",
   "metadata": {},
   "outputs": [],
   "source": [
    "def null_intervention(model, color_idxs):\n",
    "    pass\n",
    "\n",
    "def inhibition_intervention(model, color_idxs):\n",
    "    #inhibition heads\n",
    "    hook_fn = partial(patch_head_vector_at_pos, head_index=3, dest_index = -1, source_idxs=color_idxs)\n",
    "    model.blocks[12].attn.hook_pattern.add_hook(hook_fn)\n",
    "\n",
    "    hook_fn = partial(patch_head_vector_at_pos, head_index=13, dest_index = -1, source_idxs=color_idxs)\n",
    "    model.blocks[13].attn.hook_pattern.add_hook(hook_fn)\n",
    "\n",
    "    hook_fn = partial(patch_head_vector_at_pos, head_index=4, dest_index = -1, source_idxs=color_idxs)\n",
    "    model.blocks[13].attn.hook_pattern.add_hook(hook_fn)\n",
    "\n",
    "\n",
    "def neg_mover_intervention(model, color_idxs):\n",
    "    #anti copying head        \n",
    "    hook_fn = partial(patch_head_vector_at_pos, head_index=1, dest_index = -1, source_idxs=color_idxs)\n",
    "    model.blocks[19].attn.hook_pattern.add_hook(hook_fn)\n",
    "\n",
    "def content_gatherer_intervention(model, color_idxs):\n",
    "    #content gatherer heads\n",
    "    hook_fn = partial(head_ablation_hook, head_index=6)\n",
    "    model.blocks[11].attn.hook_v.add_hook(hook_fn)\n",
    "\n",
    "    hook_fn = partial(head_ablation_hook, head_index=7)\n",
    "    model.blocks[11].attn.hook_v.add_hook(hook_fn)\n",
    "\n",
    "    hook_fn = partial(head_ablation_hook, head_index=15)\n",
    "    model.blocks[12].attn.hook_v.add_hook(hook_fn)\n",
    "\n",
    "\n",
    "def run_model(model, clean_loader, interventions: List):\n",
    "    correct = 0\n",
    "    total = 0\n",
    "    correct_inputs= []\n",
    "    wrong_inputs = []\n",
    "\n",
    "    correct_idxs = []\n",
    "    wrong_idxs = []\n",
    "\n",
    "    interv=False #unused in this version\n",
    "\n",
    "    for cld, cll in tqdm(clean_loader):\n",
    "        model.reset_hooks()\n",
    "        #cleanbatch = clean_loader[0\n",
    "        #corrbatch = corr_loader[0]\n",
    "        ans_tokens = []\n",
    "        for cl in cll:\n",
    "            #print('cl1', cl, 'c01', co)\n",
    "            ans_tokens.append( torch.tensor(model.to_single_token(cl)))\n",
    "        ans_tokens = torch.stack(ans_tokens).to(device)\n",
    "        str_toks = model.to_str_tokens(cld[0], prepend_bos=False)\n",
    "        #print(str_toks)\n",
    "        ans_idx = str_toks.index(cll[0].lower())\n",
    "        example_label_idx = 31-1\n",
    "        color_idxs = [43-2, 47-2, 52-2]\n",
    "        color_idxs.remove(ans_idx)\n",
    "        #print([f'{k}_{s}' for k,s in enumerate(str_toks)])\n",
    "        #break\n",
    "        for intervention in interventions:\n",
    "            intervention(model, color_idxs)\n",
    "        if interv:\n",
    "            pass\n",
    "            \n",
    "            \n",
    "\n",
    "        cl_tokens = model.to_tokens(cld, prepend_bos=False)\n",
    "        logits, cache=model.run_with_cache(cl_tokens)\n",
    "        #print(logits.shape)\n",
    "        preds = logits[:, -1].argmax(dim=-1)\n",
    "        #print(preds.shape)\n",
    "        for i,(pred, lab) in enumerate(zip(preds, ans_tokens)):\n",
    "            if pred.item() == lab.item():\n",
    "                correct+=1\n",
    "                correct_idxs.append((cld[i], cll[i]))\n",
    "                correct_inputs.append((cld[i], cll[i]))\n",
    "            else:\n",
    "                wrong_inputs.append((cld[i], model.tokenizer.decode(pred.detach().cpu().item())))\n",
    "                wrong_idxs.append((cld[i], cll[i]))\n",
    "            total+=1\n",
    "        #if total==100:\n",
    "        #    break\n",
    "    return (correct, total, list(correct_idxs), list(wrong_idxs), list(correct_inputs), list(wrong_inputs))"
   ]
  },
  {
   "cell_type": "code",
   "execution_count": 16,
   "id": "7849d892",
   "metadata": {},
   "outputs": [],
   "source": [
    "def run_vanilla(model: HookedTransformer, clean_loader: ObjectData):\n",
    "    interventions = []\n",
    "    correct, total, correct_idxs, wrong_idxs, correct_inputs, wrong_inputs = run_model(model,\n",
    "                                                                                    clean_loader, \n",
    "                                                                                    interventions)\n",
    "    print(correct, total, correct/total)\n",
    "    return correct_idxs, wrong_idxs, correct_inputs, wrong_inputs\n",
    "\n",
    "def run_inhib_only(model: HookedTransformer, clean_loader: ObjectData):\n",
    "    interventions = [inhibition_intervention]\n",
    "    correct, total, correct_idxs, wrong_idxs, correct_inputs, wrong_inputs = run_model(model, \n",
    "                                                                                    clean_loader, \n",
    "                                                                                    interventions)\n",
    "    print(correct, total, correct/total)\n",
    "    return correct_idxs, wrong_idxs, correct_inputs, wrong_inputs\n",
    "\n",
    "#@step(name=\"neg_mover_only_interv\", deterministic=True, cacheable=True)\n",
    "def run_neg_mover_only(model: HookedTransformer, clean_loader: ObjectData):\n",
    "    interventions = [neg_mover_intervention]\n",
    "    correct, total, correct_idxs, wrong_idxs, correct_inputs, wrong_inputs = run_model(model, \n",
    "                                                                                    clean_loader, \n",
    "                                                                                    interventions)\n",
    "    print(correct, total, correct/total)\n",
    "    return correct_idxs, wrong_idxs, correct_inputs, wrong_inputs\n",
    "\n",
    "#@step(name=\"inhib_and_neg_mover_interv\", deterministic=True, cacheable=True)\n",
    "def run_inhib_and_neg_mover(model: HookedTransformer, clean_loader: ObjectData):\n",
    "    interventions = [inhibition_intervention, neg_mover_intervention]\n",
    "    correct, total, correct_idxs, wrong_idxs, correct_inputs, wrong_inputs = run_model(model, \n",
    "                                                                                    clean_loader, \n",
    "                                                                                    interventions)\n",
    "    print(correct, total, correct/total)\n",
    "    return correct_idxs, wrong_idxs, correct_inputs, wrong_inputs"
   ]
  },
  {
   "cell_type": "code",
   "execution_count": 13,
   "id": "c3a10144",
   "metadata": {},
   "outputs": [
    {
     "name": "stdout",
     "output_type": "stream",
     "text": [
      "Intervention? False\n"
     ]
    },
    {
     "name": "stderr",
     "output_type": "stream",
     "text": [
      "100%|██████████| 1000/1000 [00:52<00:00, 18.93it/s]"
     ]
    },
    {
     "name": "stdout",
     "output_type": "stream",
     "text": [
      "496 1000 0.496\n"
     ]
    },
    {
     "name": "stderr",
     "output_type": "stream",
     "text": [
      "\n"
     ]
    }
   ],
   "source": [
    "van_correct, van_wrong_idxs, van_correct, van_wrong = run_vanilla(model, clean_loader)\n"
   ]
  },
  {
   "cell_type": "code",
   "execution_count": 17,
   "id": "ea6f8143",
   "metadata": {},
   "outputs": [
    {
     "name": "stdout",
     "output_type": "stream",
     "text": [
      "Intervention? False\n"
     ]
    },
    {
     "name": "stderr",
     "output_type": "stream",
     "text": [
      "100%|██████████| 1000/1000 [00:53<00:00, 18.65it/s]\n"
     ]
    },
    {
     "name": "stdout",
     "output_type": "stream",
     "text": [
      "815 1000 0.815\n",
      "Intervention? False\n"
     ]
    },
    {
     "name": "stderr",
     "output_type": "stream",
     "text": [
      "100%|██████████| 1000/1000 [00:53<00:00, 18.77it/s]"
     ]
    },
    {
     "name": "stdout",
     "output_type": "stream",
     "text": [
      "781 1000 0.781\n"
     ]
    },
    {
     "name": "stderr",
     "output_type": "stream",
     "text": [
      "\n"
     ]
    }
   ],
   "source": [
    "inhib_interv_correct_idxs, inhib_interv_wrong_idxs, inhib_interv_correct, inhib_interv_wrong = run_inhib_only(model, clean_loader)\n",
    "neg_interv_correct_idxs, neg_interv_wrong_idxs, neg_interv_correct, neg_interv_wrong = run_neg_mover_only(model, clean_loader)\n",
    "\n",
    "\n"
   ]
  },
  {
   "cell_type": "code",
   "execution_count": 18,
   "id": "01226943",
   "metadata": {},
   "outputs": [
    {
     "name": "stdout",
     "output_type": "stream",
     "text": [
      "Intervention? False\n"
     ]
    },
    {
     "name": "stderr",
     "output_type": "stream",
     "text": [
      "100%|██████████| 1000/1000 [00:53<00:00, 18.59it/s]"
     ]
    },
    {
     "name": "stdout",
     "output_type": "stream",
     "text": [
      "937 1000 0.937\n"
     ]
    },
    {
     "name": "stderr",
     "output_type": "stream",
     "text": [
      "\n"
     ]
    }
   ],
   "source": [
    "full_interv_correct_idxs, full_interv_wrong_idxs, full_interv_correct, full_interv_wrong = run_inhib_and_neg_mover(model, clean_loader)\n",
    "\n"
   ]
  },
  {
   "cell_type": "code",
   "execution_count": 22,
   "id": "3e3c969c",
   "metadata": {},
   "outputs": [
    {
     "name": "stdout",
     "output_type": "stream",
     "text": [
      "496\n",
      "815\n"
     ]
    },
    {
     "data": {
      "image/png": "[encoded data removed]",
      "text/plain": [
       "<Figure size 600x600 with 1 Axes>"
      ]
     },
     "metadata": {},
     "output_type": "display_data"
    }
   ],
   "source": [
    "total = 1000\n",
    "baseline_correct = len(van_correct)\n",
    "print(baseline_correct)\n",
    "inhib_only_correct = len(inhib_interv_correct)\n",
    "print(inhib_only_correct)\n",
    "num_full_interv_correct = len(full_interv_correct)\n",
    "num_neg_mov_only_correct = len(neg_interv_correct_idxs)\n",
    "\n",
    "plt.figure(figsize=(6,6))\n",
    "plt.bar([0], [baseline_correct/total], color='steelblue')\n",
    "plt.bar([1], [num_full_interv_correct/total], color='limegreen', label='Inhib. and Neg Mover\\nHeads')\n",
    "plt.bar([1], [inhib_only_correct/total], color='forestgreen', label='w/ Inhibition Heads Only')\n",
    "plt.bar([1], [num_neg_mov_only_correct/total], color='darkgreen', label='w/ Neg Mover Heads Only')\n",
    "\n",
    "plt.xticks([0,1], ['GPT2', 'GPT2 with\\nInterventions'])\n",
    "plt.legend(loc='upper left')\n",
    "plt.ylabel(\"Accuracy (%)\")\n",
    "plt.title(\"Effect of Activating IOI Circuit Components\\non Colored Objects Model Performance\")\n",
    "plt.yticks([0,.25,.5,.75,1.,],[0,25,50,75,100])\n",
    "plt.savefig(\"results/gpt2medium_manual_interv_no_cont_accuracy.pdf\")"
   ]
  },
  {
   "cell_type": "code",
   "execution_count": null,
   "id": "d9ee9aef",
   "metadata": {},
   "outputs": [],
   "source": []
  }
 ],
 "metadata": {
  "kernelspec": {
   "display_name": "Python 3 (ipykernel)",
   "language": "python",
   "name": "python3"
  },
  "language_info": {
   "codemirror_mode": {
    "name": "ipython",
    "version": 3
   },
   "file_extension": ".py",
   "mimetype": "text/x-python",
   "name": "python",
   "nbconvert_exporter": "python",
   "pygments_lexer": "ipython3",
   "version": "3.9.16"
  }
 },
 "nbformat": 4,
 "nbformat_minor": 5
}
